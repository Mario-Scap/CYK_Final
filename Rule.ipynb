{
 "cells": [
  {
   "cell_type": "code",
   "execution_count": 1,
   "metadata": {},
   "outputs": [],
   "source": [
    "#Classe che rappresenta le regole di produzione. Ogni regola di produzione ha un risultato (VP, S, NP...), un left child e un right child\n",
    "class Rule(object):\n",
    "    result = None #String\n",
    "    p1 = None #left child\n",
    "    p2 = None #right child\n",
    "    \n",
    "    def __init__(self,result,p1,p2):\n",
    "        self.result = result\n",
    "        self.p1 = p1\n",
    "        self.p2 = p2\n",
    "    \n",
    "    #Restituisce il risultato della regola di produzione VP, S, NP... \n",
    "    def get_type(self):\n",
    "        return self.result\n",
    "    \n",
    "    #Restituisci il left child della regola di produzione\n",
    "    def lhs(self):\n",
    "        return self.p1\n",
    "    \n",
    "    #Restituisci il right child della regola di produzione\n",
    "    def rhs(self):\n",
    "        return self.p2\n",
    "\n",
    "\n",
    "class Cell(object):\n",
    "    productions = [] #lista delle production rules\n",
    "    \n",
    "    def __init__(self, productions=None):\n",
    "        if productions is None:\n",
    "            self.productions = []\n",
    "        else:\n",
    "            self.productions = productions\n",
    "            \n",
    "    def add_production(self, result,p1,p2):\n",
    "        self.productions.append(Rule(result,p1,p2))\n",
    "    \n",
    "    def set_productions(self, p):\n",
    "        self.productions = p\n",
    "    \n",
    "    def get_types(self):\n",
    "        types = []\n",
    "        for p in self.productions:\n",
    "            types.append(p.result)\n",
    "        return types\n",
    "    \n",
    "    #Restituisce la lista delle regole di produzione per la cella\n",
    "    def get_rules(self):       \n",
    "        return self.productions\n"
   ]
  }
 ],
 "metadata": {
  "kernelspec": {
   "display_name": "base",
   "language": "python",
   "name": "python3"
  },
  "language_info": {
   "codemirror_mode": {
    "name": "ipython",
    "version": 3
   },
   "file_extension": ".py",
   "mimetype": "text/x-python",
   "name": "python",
   "nbconvert_exporter": "python",
   "pygments_lexer": "ipython3",
   "version": "3.10.9"
  },
  "orig_nbformat": 4
 },
 "nbformat": 4,
 "nbformat_minor": 2
}
