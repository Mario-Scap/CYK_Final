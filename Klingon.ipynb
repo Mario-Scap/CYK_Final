{
 "cells": [
  {
   "cell_type": "code",
   "execution_count": 1,
   "metadata": {},
   "outputs": [
    {
     "name": "stdout",
     "output_type": "stream",
     "text": [
      "importing Jupyter notebook from CKY.ipynb\n",
      "importing Jupyter notebook from Rule.ipynb\n"
     ]
    }
   ],
   "source": [
    "from nltk import CFG\n",
    "import import_ipynb\n",
    "#from CYK_Parser import Grammar\n",
    "from CKY import Grammar"
   ]
  },
  {
   "cell_type": "code",
   "execution_count": 2,
   "metadata": {},
   "outputs": [],
   "source": [
    "klingon = CFG.fromstring(\n",
    "\"\"\"\n",
    "S -> NP VP\n",
    "VP -> Verb NP\n",
    "VP -> Dajatlha | vIlegh | jIHtaH | maH \n",
    "NP -> Adj Noun\n",
    "NP -> tlhIngan | Hol | puq | paDaq | jIH\n",
    "Adj -> tlhIngan\n",
    "Noun -> tlhIngan | Hol | puq | paDaq | jIH\n",
    "Verb -> Dajatlha | vIlegh | jIHtaH | maH                   \n",
    "\"\"\"\n",
    ")\n",
    "\n",
    "#print(klingon)\n",
    "\n",
    "#Scrivo su file la nuova grammatica in Chomsky Normal Form\n",
    "with open(\"Klingon_Grammar.txt\", \"w\") as f:\n",
    "    for rule in klingon.productions():\n",
    "        f.write(str(rule) + \"\\n\")\n"
   ]
  },
  {
   "cell_type": "code",
   "execution_count": 3,
   "metadata": {},
   "outputs": [],
   "source": [
    "sentences_list = []\n",
    "sentences_list.append('tlhIngan Hol Dajatlha') #(Do you speak Klingon?)\n",
    "sentences_list.append('puq vIlegh jIH') #(I see the child)\n",
    "sentences_list.append('tlhIngan maH') #(I'm in the room)\n",
    "sentences_list.append('paDaq jIHtaH') #(We are Klingon!)\n"
   ]
  },
  {
   "cell_type": "code",
   "execution_count": 4,
   "metadata": {},
   "outputs": [
    {
     "name": "stdout",
     "output_type": "stream",
     "text": [
      "Regole Applicate : NP[2,1] --> Adj[1,1] Noun[1,2]\n",
      "Regole Applicate : S[2,2] --> NP[1,2] VP[1,3]\n",
      "Regole Applicate : S[3,1] --> NP[2,1] VP[1,3]\n",
      "----------------------------------------\n",
      "La frase inserita è accettata dal linguaggio\n",
      "Possibili alberi : 1\n",
      "----------------------------------------\n",
      "\n",
      "---------------------  --------------  --------------\n",
      "['S']\n",
      "['NP']                 ['S']\n",
      "['NP', 'Adj', 'Noun']  ['NP', 'Noun']  ['VP', 'Verb']\n",
      "tlhIngan               Hol             Dajatlha\n",
      "---------------------  --------------  --------------\n",
      "\n",
      "Regole Applicate : S[2,1] --> NP[1,1] VP[1,2]\n",
      "Regole Applicate : VP[2,2] --> Verb[1,2] NP[1,3]\n",
      "Regole Applicate : S[3,1] --> NP[1,1] VP[2,2]\n",
      "----------------------------------------\n",
      "La frase inserita è accettata dal linguaggio\n",
      "Possibili alberi : 1\n",
      "----------------------------------------\n",
      "\n",
      "--------------  --------------  --------------\n",
      "['S']\n",
      "['S']           ['VP']\n",
      "['NP', 'Noun']  ['VP', 'Verb']  ['NP', 'Noun']\n",
      "puq             vIlegh          jIH\n",
      "--------------  --------------  --------------\n",
      "\n",
      "Regole Applicate : S[2,1] --> NP[1,1] VP[1,2]\n",
      "----------------------------------------\n",
      "La frase inserita è accettata dal linguaggio\n",
      "Possibili alberi : 1\n",
      "----------------------------------------\n",
      "\n",
      "---------------------  --------------\n",
      "['S']\n",
      "['NP', 'Adj', 'Noun']  ['VP', 'Verb']\n",
      "tlhIngan               maH\n",
      "---------------------  --------------\n",
      "\n",
      "Regole Applicate : S[2,1] --> NP[1,1] VP[1,2]\n",
      "----------------------------------------\n",
      "La frase inserita è accettata dal linguaggio\n",
      "Possibili alberi : 1\n",
      "----------------------------------------\n",
      "\n",
      "--------------  --------------\n",
      "['S']\n",
      "['NP', 'Noun']  ['VP', 'Verb']\n",
      "paDaq           jIHtaH\n",
      "--------------  --------------\n",
      "\n"
     ]
    }
   ],
   "source": [
    "for s in sentences_list:\n",
    "    k = Grammar('Klingon_Grammar.txt')\n",
    "    k.parse(s)\n",
    "    k.print_parse_table()\n",
    "    trees = k.get_trees()"
   ]
  }
 ],
 "metadata": {
  "kernelspec": {
   "display_name": "base",
   "language": "python",
   "name": "python3"
  },
  "language_info": {
   "codemirror_mode": {
    "name": "ipython",
    "version": 3
   },
   "file_extension": ".py",
   "mimetype": "text/x-python",
   "name": "python",
   "nbconvert_exporter": "python",
   "pygments_lexer": "ipython3",
   "version": "3.10.9"
  },
  "orig_nbformat": 4
 },
 "nbformat": 4,
 "nbformat_minor": 2
}
